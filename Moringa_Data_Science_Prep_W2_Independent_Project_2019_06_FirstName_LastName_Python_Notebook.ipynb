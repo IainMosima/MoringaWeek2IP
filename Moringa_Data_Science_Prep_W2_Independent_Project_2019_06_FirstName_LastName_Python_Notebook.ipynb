{
  "nbformat": 4,
  "nbformat_minor": 0,
  "metadata": {
    "colab": {
      "name": "Moringa_Data_Science_Prep_W2_Independent_Project_2019_06_FirstName_LastName_Python_Notebook",
      "provenance": []
    },
    "kernelspec": {
      "name": "python3",
      "display_name": "Python 3"
    },
    "language_info": {
      "name": "python"
    }
  },
  "cells": [
    {
      "cell_type": "code",
      "metadata": {
        "id": "cjLUBGavTbbB"
      },
      "source": [
        "contact_book = {'Parul' : 'parul@moringa.org',\n",
        "\n",
        "        'Thomas' : 'thomas@moringa.org',\n",
        "\n",
        "        'Ashley' : 'ashley@moringa.org',\n",
        "\n",
        "        'Kellen' : 'kellen@moringa.org',\n",
        "\n",
        "        'June' : 'june@moringa.org',\n",
        "\n",
        "        'Joseph' : 'joe@moringa.org',\n",
        "\n",
        "        'Lillian' : 'lillian@moringa.org',\n",
        "\n",
        "        'Arnold' : 'arnold@moringa.org' \n",
        "}"
      ],
      "execution_count": 2,
      "outputs": []
    },
    {
      "cell_type": "markdown",
      "metadata": {
        "id": "LRKFYqWgTn9y"
      },
      "source": [
        "**QUESTION**\n",
        "\n",
        "You will write python code that performs the following procedures\n",
        "\n",
        "1. Delete a contact from the dictionary when the user specifies the its key \n",
        "2. Print out the first 2 contacts. \n",
        "3. Display the total no. of contacts left in the dictionary.\n",
        "4. Add 2 new contacts in the dictionary. \n",
        "5. Print out all the contacts."
      ]
    },
    {
      "cell_type": "code",
      "metadata": {
        "colab": {
          "base_uri": "https://localhost:8080/"
        },
        "id": "CE-hHQwJUDyn",
        "outputId": "bb3294dd-58ae-4567-f555-f9a21ce7650a"
      },
      "source": [
        "# Delete a contact from the dictionary when the user specifies the its key\n",
        "contact_book.pop(\"Thomas\")\n",
        "contact_book.pop(\"Ashley\")\n",
        "print(contact_book)"
      ],
      "execution_count": 3,
      "outputs": [
        {
          "output_type": "stream",
          "text": [
            "{'Parul': 'parul@moringa.org', 'Kellen': 'kellen@moringa.org', 'June': 'june@moringa.org', 'Joseph': 'joe@moringa.org', 'Lillian': 'lillian@moringa.org', 'Arnold': 'arnold@moringa.org'}\n"
          ],
          "name": "stdout"
        }
      ]
    },
    {
      "cell_type": "code",
      "metadata": {
        "colab": {
          "base_uri": "https://localhost:8080/"
        },
        "id": "-lYwd0SvVrdr",
        "outputId": "b4d56124-26c8-4f7b-da7b-fd2bec0fb346"
      },
      "source": [
        "# Print out the first 2 contacts.\n",
        "count = 0\n",
        "for x,y in contact_book.items():\n",
        "  print(x, \":\", y)\n",
        "  count+=1\n",
        "  if count == 2:\n",
        "    breaki"
      ],
      "execution_count": 16,
      "outputs": [
        {
          "output_type": "stream",
          "text": [
            "Parul : parul@moringa.org\n",
            "Kellen : kellen@moringa.org\n"
          ],
          "name": "stdout"
        }
      ]
    },
    {
      "cell_type": "code",
      "metadata": {
        "id": "fm5vRR-TZGvZ"
      },
      "source": [
        "# Display the total no. of contacts left in the dictionary.\n",
        "sum = 0\n",
        "no_contact_book = len(contact_book)\n",
        "for x,y in contact_book.items():\n",
        "  sum+=1\n",
        "print(\"Number of books left in the dictionary are\",sum)"
      ],
      "execution_count": null,
      "outputs": []
    },
    {
      "cell_type": "code",
      "metadata": {
        "colab": {
          "base_uri": "https://localhost:8080/"
        },
        "id": "uMyipfbTZtUJ",
        "outputId": "648237f9-b87e-4095-9b6f-6aa842fda0df"
      },
      "source": [
        "# Add 2 new contacts in the dictionary.\n",
        "contact1name = str(input(\"Input first contact: \"))\n",
        "contact1email = str(input(\"Input first email: \"))\n",
        "contact2name = str(input(\"Input second contact: \"))\n",
        "contact2email = str(input(\"Input second email: \"))\n",
        "\n",
        "contact_book[contact1name] = contact1email\n",
        "contact_book[contact2name] = contact2email\n",
        "print(contact_book)"
      ],
      "execution_count": 22,
      "outputs": [
        {
          "output_type": "stream",
          "text": [
            "Input first contact: Iain\n",
            "Input first email: mosimaiain@gmail.com\n",
            "Input second contact: Mosima\n",
            "Input second email: iainmosima@outlook.com\n",
            "{'Parul': 'parul@moringa.org', 'Kellen': 'kellen@moringa.org', 'June': 'june@moringa.org', 'Joseph': 'joe@moringa.org', 'Lillian': 'lillian@moringa.org', 'Arnold': 'arnold@moringa.org', 'Iain': 'mosimaiain@gmail.com', 'Mosima': 'iainmosima@outlook.com'}\n"
          ],
          "name": "stdout"
        }
      ]
    },
    {
      "cell_type": "code",
      "metadata": {
        "colab": {
          "base_uri": "https://localhost:8080/"
        },
        "id": "bYr3khO9b57a",
        "outputId": "ccacfafb-3aa6-4bbc-9684-1571d915c8c2"
      },
      "source": [
        "# Print out all the contacts.\n",
        "print(contact_book)"
      ],
      "execution_count": 23,
      "outputs": [
        {
          "output_type": "stream",
          "text": [
            "{'Parul': 'parul@moringa.org', 'Kellen': 'kellen@moringa.org', 'June': 'june@moringa.org', 'Joseph': 'joe@moringa.org', 'Lillian': 'lillian@moringa.org', 'Arnold': 'arnold@moringa.org', 'Iain': 'mosimaiain@gmail.com', 'Mosima': 'iainmosima@outlook.com'}\n"
          ],
          "name": "stdout"
        }
      ]
    }
  ]
}